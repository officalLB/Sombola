{
  "nbformat": 4,
  "nbformat_minor": 0,
  "metadata": {
    "colab": {
      "provenance": [],
      "toc_visible": true,
      "collapsed_sections": [
        "rcMR_8RRRDhb"
      ],
      "include_colab_link": true
    },
    "kernelspec": {
      "name": "python3",
      "display_name": "Python 3"
    },
    "language_info": {
      "name": "python"
    }
  },
  "cells": [
    {
      "cell_type": "markdown",
      "metadata": {
        "id": "view-in-github",
        "colab_type": "text"
      },
      "source": [
        "<a href=\"https://colab.research.google.com/github/officalLB/Sombola/blob/main/Automatic_Classification_Of_Key_Words_Associated_with_articles_on_Unza_journals.ipynb\" target=\"_parent\"><img src=\"https://colab.research.google.com/assets/colab-badge.svg\" alt=\"Open In Colab\"/></a>"
      ]
    },
    {
      "cell_type": "markdown",
      "source": [
        "# Business Understanding\n"
      ],
      "metadata": {
        "id": "q5BHIcKZFccf"
      }
    },
    {
      "cell_type": "markdown",
      "source": [
        "## 1.1 Problem Statement\n",
        "Currently, keywords associated with research articles in UNZA journals are not automatically organized or classified. This makes it difficult for researchers, students, and librarians to quickly identify relevant articles or track research trends. A manual process is time-consuming, inconsistent, and limits the usefulness of the institutional repository. Navigation of journals will be a piece of cake!"
      ],
      "metadata": {
        "id": "zzXRR53RcVZn"
      }
    },
    {
      "cell_type": "markdown",
      "source": [
        "## 1.2 Business Objectives\n",
        "The goal of this project is to build a system that can automatically classify keywords from articles into meaningful categories (e.g., *Agriculture, Medicine, Computer Science*).  \n",
        "\n",
        "From a real-world perspective, success means:\n",
        "- Improving searchability and retrieval of research articles.\n",
        "- Helping researchers discover related works faster.\n",
        "- Supporting administrators in analyzing research output trends at UNZA."
      ],
      "metadata": {
        "id": "T91ZAsmoREBD"
      }
    },
    {
      "cell_type": "markdown",
      "source": [
        "##1.3 Data Mining Goal\n",
        "  \n",
        "  The technical approach to achieving these objectives is structured into the following data mining goals:\n",
        "\n",
        "   1.**Classification Model Development:** A classification model will be built to  categorize article keywords into predefined classes.\n",
        "\n",
        "  2.**Text Preprocessing:** The raw text data will be prepared for machine learning using standard preprocessing techniques, including tokenization, stop-word removal, and TF-IDF (Term          Frequency-Inverse Document Frequency) for vectorization.\n",
        "\n",
        "  3.**Algorithm Experimentation:** The performance of several classification algorithms will be evaluated to determine the most effective one. The algorithms to be tested include Naïve          Bayes,   Support Vector Machines (SVM), and Decision Trees.\n",
        "  \n",
        "  To wrap things up, the main goal of this project is to build a machine learning model that can automatically classify article keywords. We've broken the work down into two key           parts. First, we'll focus on data preparation by cleaning the text using tokenization and stop-word removal, and then we'll use TF-IDF to turn everything into numbers for the models     to work with.\n",
        "  \n",
        "  For the second part, we'll experiment with different algorithms like Naïve Bayes, SVM, and Decision Trees. By testing them with metrics like precision and F1-score, then we'll           figure out which one is the most accurate. We're hoping that by following these steps, we can successfully create a model that not only classifies keywords effectively but also          shows we've got a solid grasp of the data mining process.\n",
        "\n",
        "   Summary: The workflow involves two main stages.\n",
        "  First, text preprocessing to clean and transform raw keywords into numerical representations.\n",
        "  Second, experimentation with multiple algorithms to identify the most accurate and robust classifier.\n",
        "\n",
        "    1.3.1 Data Preparation\n",
        "       Before building the model the data will be,\n",
        "       Tokenized into smaller units.\n",
        "       Cleaned by removing stop words and irrelevant terms.\n",
        "       Converted into numerical representations using TF-IDF for input into machine learning models."
      ],
      "metadata": {
        "id": "uxUYX_Y1WMRM"
      }
    },
    {
      "cell_type": "markdown",
      "source": [
        "## 1.4 Project Success Criteria\n",
        "- The model should achieve at least **80% accuracy** on the test dataset.\n",
        "- The classification results must be **interpretable and consistent** across different domains.\n",
        "- The classification outputs are clear and be easily explained to non-technical stakeholders.\n",
        "- The system should reduce the time required to organize keywords compared to manual methods."
      ],
      "metadata": {
        "id": "rnDULKNcWVKB"
      }
    },
    {
      "cell_type": "markdown",
      "source": [
        "# Data Understanding\n"
      ],
      "metadata": {
        "id": "UajRKSlpWt91"
      }
    },
    {
      "cell_type": "code",
      "source": [
        "!pip install beautifulsoup4\n",
        "!pip install requests\n",
        "!pip install pandas"
      ],
      "metadata": {
        "colab": {
          "base_uri": "https://localhost:8080/"
        },
        "id": "AV0jOq9SJl-H",
        "outputId": "3bd5eb6c-2a5f-4731-e145-9009f3fd0f80"
      },
      "execution_count": null,
      "outputs": [
        {
          "output_type": "stream",
          "name": "stdout",
          "text": [
            "Requirement already satisfied: beautifulsoup4 in /usr/local/lib/python3.12/dist-packages (4.13.4)\n",
            "Requirement already satisfied: soupsieve>1.2 in /usr/local/lib/python3.12/dist-packages (from beautifulsoup4) (2.7)\n",
            "Requirement already satisfied: typing-extensions>=4.0.0 in /usr/local/lib/python3.12/dist-packages (from beautifulsoup4) (4.14.1)\n",
            "Requirement already satisfied: requests in /usr/local/lib/python3.12/dist-packages (2.32.4)\n",
            "Requirement already satisfied: charset_normalizer<4,>=2 in /usr/local/lib/python3.12/dist-packages (from requests) (3.4.3)\n",
            "Requirement already satisfied: idna<4,>=2.5 in /usr/local/lib/python3.12/dist-packages (from requests) (3.10)\n",
            "Requirement already satisfied: urllib3<3,>=1.21.1 in /usr/local/lib/python3.12/dist-packages (from requests) (2.5.0)\n",
            "Requirement already satisfied: certifi>=2017.4.17 in /usr/local/lib/python3.12/dist-packages (from requests) (2025.8.3)\n",
            "Requirement already satisfied: pandas in /usr/local/lib/python3.12/dist-packages (2.2.2)\n",
            "Requirement already satisfied: numpy>=1.26.0 in /usr/local/lib/python3.12/dist-packages (from pandas) (2.0.2)\n",
            "Requirement already satisfied: python-dateutil>=2.8.2 in /usr/local/lib/python3.12/dist-packages (from pandas) (2.9.0.post0)\n",
            "Requirement already satisfied: pytz>=2020.1 in /usr/local/lib/python3.12/dist-packages (from pandas) (2025.2)\n",
            "Requirement already satisfied: tzdata>=2022.7 in /usr/local/lib/python3.12/dist-packages (from pandas) (2025.2)\n",
            "Requirement already satisfied: six>=1.5 in /usr/local/lib/python3.12/dist-packages (from python-dateutil>=2.8.2->pandas) (1.17.0)\n"
          ]
        }
      ]
    },
    {
      "cell_type": "code",
      "source": [
        "from google.colab import drive\n",
        "drive.mount('/content/drive')\n",
        "import requests\n",
        "from bs4 import BeautifulSoup\n",
        "import pandas as pd\n",
        "import time\n",
        "import os # Import the os module\n",
        "\n",
        "BASE_URL = \"https://journals.unza.zm\"\n",
        "\n",
        "def get_journal_links():\n",
        "    response = requests.get(BASE_URL)\n",
        "    soup = BeautifulSoup(response.text, \"html.parser\")\n",
        "    links = []\n",
        "    for a in soup.select(\"a\"):\n",
        "        href = a.get(\"href\")\n",
        "        if href and \"index.php\" in href:\n",
        "            links.append(BASE_URL + href if not href.startswith(\"http\") else href)\n",
        "    return list(set(links))\n",
        "\n",
        "def scrape_articles(journal_url, max_pages=3):\n",
        "    articles = []\n",
        "    for page in range(1, max_pages+1):\n",
        "        url = f\"{journal_url}?page={page}\"\n",
        "        response = requests.get(url)\n",
        "        if response.status_code != 200:\n",
        "            break\n",
        "\n",
        "        soup = BeautifulSoup(response.text, \"html.parser\")\n",
        "        for article in soup.select(\"div.title a\"):\n",
        "            article_url = article.get(\"href\")\n",
        "            article_url = article_url if article_url.startswith(\"http\") else BASE_URL + article_url\n",
        "            article_data = scrape_article_metadata(article_url)\n",
        "            if article_data:\n",
        "                articles.append(article_data)\n",
        "            # polite delay\n",
        "            time.sleep(1)\n",
        "    return articles\n",
        "\n",
        "def _extract_author_names(soup):\n",
        "    # 1) Prefer OJS meta tags (names only)\n",
        "    meta_authors = [m.get(\"content\", \"\").strip()\n",
        "                    for m in soup.select('meta[name=\"citation_author\"]')\n",
        "                    if m.get(\"content\")]\n",
        "    if meta_authors:\n",
        "        # de-dup while preserving order\n",
        "        seen = set()\n",
        "        ordered = []\n",
        "        for a in meta_authors:\n",
        "            if a and a not in seen:\n",
        "                seen.add(a)\n",
        "                ordered.append(a)\n",
        "        return \", \".join(ordered)\n",
        "\n",
        "    # 2) Fall back to elements that specifically hold names\n",
        "    name_selectors = [\n",
        "        \".authors .name\",\n",
        "        \".author .name\",\n",
        "        \"li.authors .name\",\n",
        "        \"div#authors .name\",\n",
        "        \".article-authors .name\",\n",
        "    ]\n",
        "    for sel in name_selectors:\n",
        "        els = [e.get_text(strip=True) for e in soup.select(sel)]\n",
        "        els = [e for e in els if e]\n",
        "        if els:\n",
        "            # remove obvious ORCID ids or emails if any slipped in\n",
        "            cleaned = []\n",
        "            for txt in els:\n",
        "                # strip ORCID URLs/ids and emails in case they appear alongside names\n",
        "\n",
        "                txt = txt.replace(\"ORCID\", \"\")\n",
        "                # very light cleanup without changing the site logic\n",
        "                cleaned.append(txt.strip(\" ,;\"))\n",
        "            # de-dup\n",
        "            seen = set()\n",
        "            ordered = []\n",
        "            for a in cleaned:\n",
        "                if a and a not in seen:\n",
        "                    seen.add(a)\n",
        "                    ordered.append(a)\n",
        "            return \", \".join(ordered)\n",
        "\n",
        "    generic = [e.get_text(strip=True) for e in soup.select(\".authors span, .authors div\")]\n",
        "    if generic:\n",
        "        names = []\n",
        "        for t in generic:\n",
        "            # keep short tokens that look like names (very light heuristic)\n",
        "            if len(t.split()) <= 6 and \"http\" not in t.lower() and \"@\" not in t and \":\" not in t:\n",
        "                names.append(t.strip(\" ,;\"))\n",
        "        # if that yields something believable, join; else return joined generic\n",
        "        if names:\n",
        "            # de-dup\n",
        "            seen = set()\n",
        "            ordered = []\n",
        "            for a in names:\n",
        "                if a and a not in seen:\n",
        "                    seen.add(a)\n",
        "                    ordered.append(a)\n",
        "            return \", \".join(ordered)\n",
        "        return \", \".join(generic)\n",
        "    return None\n",
        "\n",
        "\n",
        "def scrape_article_metadata(article_url):\n",
        "    try:\n",
        "        response = requests.get(article_url)\n",
        "        if response.status_code != 200:\n",
        "            print(f\"Failed to fetch {article_url}: Status {response.status_code}\")\n",
        "            return None\n",
        "\n",
        "        soup = BeautifulSoup(response.text, \"html.parser\")\n",
        "\n",
        "        # Debug\n",
        "        print(f\"\\n--- Debugging {article_url} ---\")\n",
        "\n",
        "        # Title\n",
        "        title = None\n",
        "        title_selectors = [\"h1.page_title\", \"h1\", \".page_title\", \".article-title\", \"h1.title\"]\n",
        "        for selector in title_selectors:\n",
        "            element = soup.select_one(selector)\n",
        "            if element:\n",
        "                title = element.get_text().strip()\n",
        "                print(f\"Title found with selector '{selector}': {title[:50]}...\")\n",
        "                break\n",
        "\n",
        "        # Authors: (names only)\n",
        "        authors = _extract_author_names(soup)\n",
        "        if authors:\n",
        "            print(f\"Authors (names only): {authors}\")\n",
        "        else:\n",
        "            print(\"Authors not found with name-specific selectors; see page for structure.\")\n",
        "\n",
        "\n",
        "        # Abstract\n",
        "        abstract = None\n",
        "        abstract_selectors = [\"div.abstract\", \".abstract\", \".article-abstract\", \"div.description\"]\n",
        "        for selector in abstract_selectors:\n",
        "            element = soup.select_one(selector)\n",
        "            if element:\n",
        "                abstract = element.get_text().strip()\n",
        "                break\n",
        "\n",
        "        # Keywords\n",
        "        keywords = None\n",
        "        keyword_selectors = [\"div.keywords\", \".keywords\", \".article-keywords\", \".tags\"]\n",
        "        for selector in keyword_selectors:\n",
        "            element = soup.select_one(selector)\n",
        "            if element:\n",
        "                keywords = element.get_text().strip()\n",
        "                break\n",
        "\n",
        "        return {\n",
        "            \"title\": title,\n",
        "            \"authors\": authors,\n",
        "            \"abstract\": abstract,\n",
        "            \"keywords\": keywords,\n",
        "            \"url\": article_url\n",
        "        }\n",
        "\n",
        "    except Exception as e:\n",
        "        print(f\"Error scraping {article_url}: {str(e)}\")\n",
        "        return None\n",
        "\n",
        "\n",
        "if __name__ == \"__main__\":\n",
        "    journal_links = get_journal_links()\n",
        "    print(f\"Found {len(journal_links)} journals\")\n",
        "\n",
        "    all_articles = []\n",
        "    for journal in journal_links[:2]:\n",
        "        print(f\"\\nScraping {journal} ...\")\n",
        "        articles = scrape_articles(journal, max_pages=1)\n",
        "        all_articles.extend(articles)\n",
        "        if len(all_articles) >= 5:\n",
        "            break\n",
        "\n",
        "    df = pd.DataFrame(all_articles)\n",
        "\n",
        "    # Define the directory path\n",
        "    save_directory = \"/content/drive/My Drive/misc-unza25-csc4792-project_team9\"\n",
        "\n",
        "    # Create the directory if it doesn't exist\n",
        "    if not os.path.exists(save_directory):\n",
        "        os.makedirs(save_directory)\n",
        "        print(f\"Created directory: {save_directory}\")\n",
        "\n",
        "\n",
        "    df.to_csv(os.path.join(save_directory, \"unza_journals.csv\"), index=False)\n",
        "\n",
        "\n",
        "    print(f\"\\n--- SUMMARY ---\")\n",
        "    print(f\"Total articles scraped: {len(all_articles)}\")\n",
        "    print(f\"Articles with authors: {len([a for a in all_articles if a['authors']])}\")\n",
        "    print(f\"Articles with titles: {len([a for a in all_articles if a['title']])}\")\n",
        "\n",
        "\n",
        "    for i, article in enumerate(all_articles[:3]):\n",
        "        print(f\"\\nArticle {i+1}:\")\n",
        "        for key, value in article.items():\n",
        "            if value:\n",
        "                print(f\"  {key}: {str(value)[:100]}{'...' if len(str(value)) > 100 else ''}\")\n",
        "\n",
        "    print(\"Debug scraping completed. Data saved to unza_journals.csv\")"
      ],
      "metadata": {
        "id": "u0Tp-kH5omu6",
        "colab": {
          "base_uri": "https://localhost:8080/"
        },
        "outputId": "000364eb-5484-4e2a-b901-750b1060351f"
      },
      "execution_count": 1,
      "outputs": [
        {
          "output_type": "stream",
          "name": "stdout",
          "text": [
            "Mounted at /content/drive\n",
            "Found 34 journals\n",
            "\n",
            "Scraping https://journals.unza.zm/index.php/JONAS ...\n",
            "\n",
            "--- Debugging https://journals.unza.zm/index.php/JONAS/article/view/1222 ---\n",
            "Title found with selector 'h1.page_title': Managing an Academic Journal: Reflections from Out...\n",
            "Authors (names only): Levy Siaminwe\n",
            "\n",
            "--- Debugging https://journals.unza.zm/index.php/JONAS/article/view/1216 ---\n",
            "Title found with selector 'h1.page_title': Determinants of Smallholder Farmers’ Crop Producti...\n",
            "Authors (names only): Rosa Siamachoka, Kabwe Harnadih Mubanga, Wiza Kabaghe\n",
            "\n",
            "--- Debugging https://journals.unza.zm/index.php/JONAS/article/view/872 ---\n",
            "Title found with selector 'h1.page_title': The Management of Environmental Risks arising from...\n",
            "Authors (names only): Prisca Nachalwe\n",
            "\n",
            "--- Debugging https://journals.unza.zm/index.php/JONAS/article/view/774 ---\n",
            "Title found with selector 'h1.page_title': Quick-fit Method for Assessing  Quality of Fabrics...\n",
            "Authors (names only): James Nyirenda, Onesmus Munyati\n",
            "\n",
            "--- Debugging https://journals.unza.zm/index.php/JONAS/article/view/590 ---\n",
            "Title found with selector 'h1.page_title': Geochemistry and petrogenesis of the mafic dyke sw...\n",
            "Authors (names only): Sakwiba Musiwa, Osbert N Sikazwe, Akalemwa Fredrick Kamona\n",
            "\n",
            "--- Debugging https://journals.unza.zm/index.php/JONAS/article/view/929 ---\n",
            "Title found with selector 'h1.page_title': Determinants of Smallholder Farmers’ Crop Producti...\n",
            "Authors (names only): Rosa Siamachoka\n",
            "\n",
            "--- SUMMARY ---\n",
            "Total articles scraped: 6\n",
            "Articles with authors: 6\n",
            "Articles with titles: 6\n",
            "\n",
            "Article 1:\n",
            "  title: Managing an Academic Journal: Reflections from Outgoing Jonas Editor-In-Chief.\n",
            "  authors: Levy Siaminwe\n",
            "  abstract: Abstract\n",
            "\t\t\t\t\tThe University of Zambia (UNZA) Journal of Natural and Applied Sciences (JONAS) has re...\n",
            "  keywords: Keywords:\n",
            "\t\t\t\t\n",
            "\n",
            "\t\t\t\t\t\t\t\t\t\t\t\t\t\t\t\t\t\tAcademic Journal, \t\t\t\t\t\t\t\t\t\t\t\t\tEditor, \t\t\t\t\t\t\t\t\t\t\t\t\tEditorial Offi...\n",
            "  url: https://journals.unza.zm/index.php/JONAS/article/view/1222\n",
            "\n",
            "Article 2:\n",
            "  title: Determinants of Smallholder Farmers’ Crop Productivity and Adaption Strategies amidst Rainfall Varia...\n",
            "  authors: Rosa Siamachoka, Kabwe Harnadih Mubanga, Wiza Kabaghe\n",
            "  abstract: Abstract\n",
            "\t\t\t\t\tClimate change is a global challenge brought about by accelerated anthropogenic activi...\n",
            "  keywords: Keywords:\n",
            "\t\t\t\t\n",
            "\n",
            "\t\t\t\t\t\t\t\t\t\t\t\t\t\t\t\t\t\tClimate Change, \t\t\t\t\t\t\t\t\t\t\t\t\tRainfall  Variability, \t\t\t\t\t\t\t\t\t\t\t\t\tA...\n",
            "  url: https://journals.unza.zm/index.php/JONAS/article/view/1216\n",
            "\n",
            "Article 3:\n",
            "  title: The Management of Environmental Risks arising from mining operations in Kitwe and Mufulira\n",
            "  authors: Prisca Nachalwe\n",
            "  abstract: Abstract\n",
            "\t\t\t\t\tMining as an extractive industry has both positive and negative impacts. The positive ...\n",
            "  keywords: Keywords:\n",
            "\t\t\t\t\n",
            "\n",
            "\t\t\t\t\t\t\t\t\t\t\t\t\t\t\t\t\t\tRisk, pollution, impact, health, environment\n",
            "  url: https://journals.unza.zm/index.php/JONAS/article/view/872\n",
            "Debug scraping completed. Data saved to unza_journals.csv\n"
          ]
        }
      ]
    },
    {
      "cell_type": "code",
      "source": [
        "!ls \"/content/drive/My Drive\""
      ],
      "metadata": {
        "colab": {
          "base_uri": "https://localhost:8080/"
        },
        "id": "UEjzkonXOZVv",
        "outputId": "c37f6d58-7aa3-47f8-e0b3-5e98cb9f824f"
      },
      "execution_count": null,
      "outputs": [
        {
          "output_type": "stream",
          "name": "stdout",
          "text": [
            " 02010_PPT_ch01.gslides\n",
            " 02010_PPT_ch02.gslides\n",
            " 02010_PPT_ch03.gslides\n",
            " 02010_PPT_ch04.gslides\n",
            " 02010_PPT_ch05.gslides\n",
            " 02010_PPT_ch06.gslides\n",
            " 02010_PPT_ch07.gslides\n",
            "'4035 Lab 5.gdoc'\n",
            "'AI Topic 1.gdoc'\n",
            " Classroom\n",
            "'Colab Notebooks'\n",
            "'CSC 2101 - Subnetting Network Topology.gdoc'\n",
            "'csc2111 iassm.docx'\n",
            " CSC2702_ASSIGNMENT4.gdoc\n",
            " CSC3301\n",
            "'CSC 4631'\n",
            "'CSC 4631 Lab 4: Estimating Software Maintenance Cost and Effort.gdoc'\n",
            "'CSC 4631 Lab 5 – Tiered Maintenance & Escalation: Issue Resolution Log.gdoc'\n",
            "'Database Processing (1).gdoc'\n",
            "'Database Processing.gdoc'\n",
            "'Database Systems (1).gdoc'\n",
            "'Database Systems.gdoc'\n",
            "'Lab 5 - 4035 (1).mp4'\n",
            "'Lab 5 - 4035.mp4'\n",
            " misc-unza25-csc4792-project_team9\n",
            "'Operating System Concepts - 9th Edition.gdoc'\n",
            " Resume.gdoc\n",
            "'Student Registration System - Documentation.zip'\n",
            "'Student Registration System - Documention.zip'\n",
            " TEST1_ADRIAN_PHIRI_2021397963.gdoc\n",
            "'UNZA SIS Mobile.pptx'\n"
          ]
        }
      ]
    },
    {
      "cell_type": "code",
      "source": [
        "import pandas as pd\n",
        "\n",
        "# Load dataset\n",
        "df = pd.read_csv(\"/content/drive/My Drive/misc-unza25-csc4792-project_team9/unza_journals.csv\")\n",
        "\n",
        "# Show first 5 rows to confirm load\n",
        "print(df.head())\n"
      ],
      "metadata": {
        "colab": {
          "base_uri": "https://localhost:8080/"
        },
        "id": "TVtzFuYxE_VI",
        "outputId": "8b0251dc-0dd1-4ce7-f895-2250f39f3b38"
      },
      "execution_count": null,
      "outputs": [
        {
          "output_type": "stream",
          "name": "stdout",
          "text": [
            "                                               title  \\\n",
            "0  MANTIMBWA AND MTYANGALA: MUSICAL BOWS PLAYED B...   \n",
            "1  THE ROLE OF THE REFORMED CHURCH IN ZAMBIA IN P...   \n",
            "2  THE CIVILIAN AND THE INTRICACIES OF CORRUPTION...   \n",
            "3  NARRATIVISATION OF SPACE IN NERVOUS CONDITION ...   \n",
            "4  THE POLITICS AND PROSPECTS OF AMOTEKUN REGIONA...   \n",
            "\n",
            "                                             authors  \\\n",
            "0                                     Bibian Kalinde   \n",
            "1         Dickson Njobvu, Judith Lubasi Ilubala-Ziwa   \n",
            "2        Solomon A. Adedire, Adebowale Idowu Adeyeye   \n",
            "3                        Joseph Chabushiku  S. Sapwe   \n",
            "4  Bolaji Omitola, Adebowale Idowu Adeyeye, Olumi...   \n",
            "\n",
            "                                            abstract  \\\n",
            "0  Abstract\\n\\t\\t\\t\\t\\tIn many cultures, musical ...   \n",
            "1  Abstract\\n\\t\\t\\t\\t\\tThe study examined the mea...   \n",
            "2  Abstract\\n\\t\\t\\t\\t\\tThe paper investigates the...   \n",
            "3  Abstract\\n\\t\\t\\t\\t\\tThe objective of this arti...   \n",
            "4  Abstract\\n\\t\\t\\t\\t\\tNigeria has grappled with ...   \n",
            "\n",
            "                                            keywords  \\\n",
            "0  Keywords:\\n\\t\\t\\t\\t\\n\\n\\t\\t\\t\\t\\t\\t\\t\\t\\t\\t\\t\\...   \n",
            "1  Keywords:\\n\\t\\t\\t\\t\\n\\n\\t\\t\\t\\t\\t\\t\\t\\t\\t\\t\\t\\...   \n",
            "2  Keywords:\\n\\t\\t\\t\\t\\n\\n\\t\\t\\t\\t\\t\\t\\t\\t\\t\\t\\t\\...   \n",
            "3  Keywords:\\n\\t\\t\\t\\t\\n\\n\\t\\t\\t\\t\\t\\t\\t\\t\\t\\t\\t\\...   \n",
            "4  Keywords:\\n\\t\\t\\t\\t\\n\\n\\t\\t\\t\\t\\t\\t\\t\\t\\t\\t\\t\\...   \n",
            "\n",
            "                                                 url  \n",
            "0  https://journals.unza.zm/index.php/ZJOCI/artic...  \n",
            "1  https://journals.unza.zm/index.php/ZJOCI/artic...  \n",
            "2  https://journals.unza.zm/index.php/ZJOCI/artic...  \n",
            "3  https://journals.unza.zm/index.php/ZJOCI/artic...  \n",
            "4  https://journals.unza.zm/index.php/ZJOCI/artic...  \n"
          ]
        }
      ]
    },
    {
      "cell_type": "code",
      "source": [
        "print(\"=== Shape ===\")\n",
        "print(df.shape)\n",
        "\n",
        "print(\"\\n=== Info ===\")\n",
        "print(df.info())\n",
        "\n",
        "print(\"\\n=== Missing Values ===\")\n",
        "print(df.isnull().sum())\n",
        "\n",
        "print(\"\\n=== First Rows ===\")\n",
        "print(df.head())\n"
      ],
      "metadata": {
        "colab": {
          "base_uri": "https://localhost:8080/"
        },
        "id": "cpTXV3LMQyY9",
        "outputId": "b062e304-e9c9-4947-c41b-897ee7a0bc36"
      },
      "execution_count": null,
      "outputs": [
        {
          "output_type": "stream",
          "name": "stdout",
          "text": [
            "=== Shape ===\n",
            "(7, 5)\n",
            "\n",
            "=== Info ===\n",
            "<class 'pandas.core.frame.DataFrame'>\n",
            "RangeIndex: 7 entries, 0 to 6\n",
            "Data columns (total 5 columns):\n",
            " #   Column    Non-Null Count  Dtype \n",
            "---  ------    --------------  ----- \n",
            " 0   title     7 non-null      object\n",
            " 1   authors   7 non-null      object\n",
            " 2   abstract  7 non-null      object\n",
            " 3   keywords  7 non-null      object\n",
            " 4   url       7 non-null      object\n",
            "dtypes: object(5)\n",
            "memory usage: 412.0+ bytes\n",
            "None\n",
            "\n",
            "=== Missing Values ===\n",
            "title       0\n",
            "authors     0\n",
            "abstract    0\n",
            "keywords    0\n",
            "url         0\n",
            "dtype: int64\n",
            "\n",
            "=== First Rows ===\n",
            "                                               title  \\\n",
            "0  MANTIMBWA AND MTYANGALA: MUSICAL BOWS PLAYED B...   \n",
            "1  THE ROLE OF THE REFORMED CHURCH IN ZAMBIA IN P...   \n",
            "2  THE CIVILIAN AND THE INTRICACIES OF CORRUPTION...   \n",
            "3  NARRATIVISATION OF SPACE IN NERVOUS CONDITION ...   \n",
            "4  THE POLITICS AND PROSPECTS OF AMOTEKUN REGIONA...   \n",
            "\n",
            "                                             authors  \\\n",
            "0                                     Bibian Kalinde   \n",
            "1         Dickson Njobvu, Judith Lubasi Ilubala-Ziwa   \n",
            "2        Solomon A. Adedire, Adebowale Idowu Adeyeye   \n",
            "3                        Joseph Chabushiku  S. Sapwe   \n",
            "4  Bolaji Omitola, Adebowale Idowu Adeyeye, Olumi...   \n",
            "\n",
            "                                            abstract  \\\n",
            "0  Abstract\\n\\t\\t\\t\\t\\tIn many cultures, musical ...   \n",
            "1  Abstract\\n\\t\\t\\t\\t\\tThe study examined the mea...   \n",
            "2  Abstract\\n\\t\\t\\t\\t\\tThe paper investigates the...   \n",
            "3  Abstract\\n\\t\\t\\t\\t\\tThe objective of this arti...   \n",
            "4  Abstract\\n\\t\\t\\t\\t\\tNigeria has grappled with ...   \n",
            "\n",
            "                                            keywords  \\\n",
            "0  Keywords:\\n\\t\\t\\t\\t\\n\\n\\t\\t\\t\\t\\t\\t\\t\\t\\t\\t\\t\\...   \n",
            "1  Keywords:\\n\\t\\t\\t\\t\\n\\n\\t\\t\\t\\t\\t\\t\\t\\t\\t\\t\\t\\...   \n",
            "2  Keywords:\\n\\t\\t\\t\\t\\n\\n\\t\\t\\t\\t\\t\\t\\t\\t\\t\\t\\t\\...   \n",
            "3  Keywords:\\n\\t\\t\\t\\t\\n\\n\\t\\t\\t\\t\\t\\t\\t\\t\\t\\t\\t\\...   \n",
            "4  Keywords:\\n\\t\\t\\t\\t\\n\\n\\t\\t\\t\\t\\t\\t\\t\\t\\t\\t\\t\\...   \n",
            "\n",
            "                                                 url  \n",
            "0  https://journals.unza.zm/index.php/ZJOCI/artic...  \n",
            "1  https://journals.unza.zm/index.php/ZJOCI/artic...  \n",
            "2  https://journals.unza.zm/index.php/ZJOCI/artic...  \n",
            "3  https://journals.unza.zm/index.php/ZJOCI/artic...  \n",
            "4  https://journals.unza.zm/index.php/ZJOCI/artic...  \n"
          ]
        }
      ]
    },
    {
      "cell_type": "code",
      "source": [
        "import matplotlib.pyplot as plt\n",
        "import seaborn as sns\n",
        "from collections import Counter\n",
        "\n",
        "# Split multiple authors into list\n",
        "all_authors = []\n",
        "for a in df['authors'].dropna():\n",
        "    for name in a.split(\",\"):\n",
        "        all_authors.append(name.strip())\n",
        "\n",
        "author_counts = Counter(all_authors).most_common(10)\n",
        "\n",
        "# Plot top 10 authors\n",
        "plt.figure(figsize=(8,5))\n",
        "sns.barplot(x=[c[1] for c in author_counts], y=[c[0] for c in author_counts])\n",
        "plt.title(\"Top 10 Most Frequent Authors\")\n",
        "plt.xlabel(\"Number of Articles\")\n",
        "plt.ylabel(\"Author\")\n",
        "plt.show()\n"
      ],
      "metadata": {
        "colab": {
          "base_uri": "https://localhost:8080/",
          "height": 487
        },
        "id": "BgaDmyTyRAbh",
        "outputId": "b80bacf5-e0be-449d-b632-dd9e52e49acf"
      },
      "execution_count": null,
      "outputs": [
        {
          "output_type": "display_data",
          "data": {
            "text/plain": [
              "<Figure size 800x500 with 1 Axes>"
            ],
            "image/png": "[encoded data removed]"
          },
          "metadata": {}
        }
      ]
    },
    {
      "cell_type": "markdown",
      "source": [
        "import pandas as pd\n",
        "import matplotlib.pyplot as plt\n",
        "import seaborn as sns\n",
        "\n",
        "### Load dataset\n",
        "try:\n",
        "    df = pd.read_csv(\"/content/drive/My Drive/misc-unza25-csc4792-project_team9/unza_journals.csv\")\n",
        "except FileNotFoundError:\n",
        "    print(\"Error: 'unza_journals.csv' not found. Please ensure the file is in the correct directory.\")\n",
        "    # Optionally, exit or handle the error further if the dataframe is essential\n",
        "    exit() # Or some other error handling\n",
        "\n",
        "\n",
        "df[\"abstract_wordcount\"] = df[\"abstract\"].dropna().apply(lambda x: len(str(x).split()))\n",
        "\n",
        "plt.figure(figsize=(8,5))\n",
        "sns.histplot(df[\"abstract_wordcount\"], bins=20, kde=True)\n",
        "plt.title(\"Distribution of Abstract Lengths (Word Count)\")\n",
        "plt.xlabel(\"Word Count\")\n",
        "plt.ylabel(\"Number of Articles\")\n",
        "plt.show()"
      ],
      "metadata": {
        "id": "rcMR_8RRRDhb"
      }
    },
    {
      "cell_type": "code",
      "source": [
        "all_keywords = []\n",
        "for k in df['keywords'].dropna():\n",
        "    for word in k.replace(\"Keywords:\", \"\").replace(\"\\n\",\"\").split(\",\"):\n",
        "        word = word.strip().lower()\n",
        "        if word:\n",
        "            all_keywords.append(word)\n",
        "\n",
        "keyword_counts = Counter(all_keywords).most_common(15)\n",
        "\n",
        "plt.figure(figsize=(8,5))\n",
        "sns.barplot(x=[c[1] for c in keyword_counts], y=[c[0] for c in keyword_counts])\n",
        "plt.title(\"Top 15 Keywords Across Articles\")\n",
        "plt.xlabel(\"Frequency\")\n",
        "plt.ylabel(\"Keyword\")\n",
        "plt.show()\n"
      ],
      "metadata": {
        "colab": {
          "base_uri": "https://localhost:8080/"
        },
        "id": "bMGq3xFpRNDC",
        "outputId": "fe269571-bd4e-458e-cdce-e8aa0051c3f3"
      },
      "execution_count": null,
      "outputs": [
        {
          "output_type": "display_data",
          "data": {
            "text/plain": [
              "<Figure size 800x500 with 1 Axes>"
            ],
            "image/png": "[encoded data removed]"
          },
          "metadata": {}
        }
      ]
    },
    {
      "cell_type": "code",
      "source": [
        "# Clean keywords column\n",
        "df[\"keywords\"] = (\n",
        "    df[\"keywords\"]\n",
        "    .fillna(\"\")\n",
        "    .str.replace(\"Keywords:\", \"\", regex=False)   # remove the prefix\n",
        "    .str.replace(r\"\\s+\", \" \", regex=True)        # collapse whitespace\n",
        "    .str.strip()                                 # trim leading/trailing spaces\n",
        ")\n"
      ],
      "metadata": {
        "id": "Dp_xNsuMRuKb"
      },
      "execution_count": null,
      "outputs": []
    },
    {
      "cell_type": "code",
      "source": [
        "# Clean keywords column\n",
        "df[\"abstract\"] = (\n",
        "    df[\"abstract\"]\n",
        "    .fillna(\"\")\n",
        "    .str.replace(\"abstract:\", \"\", regex=False)   # remove the prefix\n",
        "    .str.replace(r\"\\s+\", \" \", regex=True)        # collapse whitespace\n",
        "    .str.strip()                                 # trim leading/trailing spaces\n",
        ")\n"
      ],
      "metadata": {
        "id": "cdM9TDH3TySs"
      },
      "execution_count": null,
      "outputs": []
    },
    {
      "cell_type": "code",
      "source": [
        "import pandas as pd\n",
        "from collections import Counter\n",
        "\n",
        "def generate_summary(df):\n",
        "    summary = []\n",
        "\n",
        "    # Dataset shape\n",
        "    rows, cols = df.shape\n",
        "    summary.append(f\"The dataset contains **{rows} articles** with **{cols} columns**.\")\n",
        "\n",
        "    # Missing values\n",
        "    missing = df.isnull().sum()\n",
        "    missing_cols = missing[missing > 0]\n",
        "    if not missing_cols.empty:\n",
        "        summary.append(\"Some columns have missing values:\")\n",
        "        for col, val in missing_cols.items():\n",
        "            summary.append(f\"- {col}: {val} missing\")\n",
        "    else:\n",
        "        summary.append(\" There are no missing values in the dataset.\")\n",
        "\n",
        "    # Abstract word count\n",
        "    df[\"abstract_wordcount\"] = df[\"abstract\"].fillna(\"\").apply(lambda x: len(str(x).split()))\n",
        "    avg_len = df[\"abstract_wordcount\"].mean()\n",
        "    summary.append(f\" Abstracts have an average length of about **{avg_len:.0f} words**.\")\n",
        "\n",
        "    # Top authors\n",
        "    all_authors = []\n",
        "    for a in df['authors'].dropna():\n",
        "        for name in a.split(\",\"):\n",
        "            all_authors.append(name.strip())\n",
        "    author_counts = Counter(all_authors).most_common(5)\n",
        "    if author_counts:\n",
        "        summary.append(\"The most frequent authors are:\")\n",
        "        for name, count in author_counts:\n",
        "            summary.append(f\"- {name}: {count} article(s)\")\n",
        "\n",
        "    # Clean and extract keywords\n",
        "    df[\"keywords\"] = (\n",
        "        df[\"keywords\"]\n",
        "        .fillna(\"\")\n",
        "        .str.replace(\"Keywords:\", \"\", regex=False)\n",
        "        .str.replace(r\"\\s+\", \" \", regex=True)\n",
        "        .str.strip()\n",
        "    )\n",
        "    all_keywords = []\n",
        "    for k in df['keywords']:\n",
        "        for word in k.split(\",\"):\n",
        "            word = word.strip().lower()\n",
        "            if word:\n",
        "                all_keywords.append(word)\n",
        "    keyword_counts = Counter(all_keywords).most_common(5)\n",
        "    if keyword_counts:\n",
        "        summary.append(\"The most common keywords are:\")\n",
        "        for word, count in keyword_counts:\n",
        "            summary.append(f\"- {word}: {count} occurrence(s)\")\n",
        "\n",
        "    return \"\\n\".join(summary)\n",
        "\n",
        "# === Create summary ===\n",
        "print(generate_summary(df))"
      ],
      "metadata": {
        "colab": {
          "base_uri": "https://localhost:8080/"
        },
        "id": "0y2w3AnqSKEi",
        "outputId": "fc46921d-389a-41a3-8e8d-6cc33a5a6150"
      },
      "execution_count": null,
      "outputs": [
        {
          "output_type": "stream",
          "name": "stdout",
          "text": [
            "The dataset contains **7 articles** with **5 columns**.\n",
            " There are no missing values in the dataset.\n",
            " Abstracts have an average length of about **162 words**.\n",
            "The most frequent authors are:\n",
            "- Adebowale Idowu Adeyeye: 2 article(s)\n",
            "- Bibian Kalinde: 1 article(s)\n",
            "- Dickson Njobvu: 1 article(s)\n",
            "- Judith Lubasi Ilubala-Ziwa: 1 article(s)\n",
            "- Solomon A. Adedire: 1 article(s)\n",
            "The most common keywords are:\n",
            "- bows: 1 occurrence(s)\n",
            "- chewa: 1 occurrence(s)\n",
            "- matimbwa: 1 occurrence(s)\n",
            "- mtyangala: 1 occurrence(s)\n",
            "- tonga: 1 occurrence(s)\n"
          ]
        }
      ]
    },
    {
      "cell_type": "markdown",
      "source": [
        "### initial Summary\n",
        "The dataset contains **18 articles** with **6 columns**.\n",
        " There are no missing values in the dataset.\n",
        " Abstracts have an average length of about **275 words**.\n",
        "The most frequent authors are:\n",
        "- Brian Chanda Chiluba: 2 article(s)\n",
        "- Esther Munalula Nkandu: 2 article(s)\n",
        "- Munalula Muyangwa Munalula: 2 article(s)\n",
        "- Kris Kapp: 2 article(s)\n",
        "- Kweleka Mwanza: 1 article(s)\n",
        "The most common keywords are:\n",
        "- covid-19: 6 occurrence(s)\n",
        "- disability: 3 occurrence(s)\n",
        "- adolescent reproductive health: 2 occurrence(s)\n",
        "- anthrax: 1 occurrence(s)\n",
        "- bacillus anthracis: 1 occurrence(s)"
      ],
      "metadata": {
        "id": "aXChDRX3Sg4p"
      }
    },
    {
      "cell_type": "markdown",
      "source": [
        "# Data Preparation\n"
      ],
      "metadata": {
        "id": "8VISFNia0Lxq"
      }
    },
    {
      "cell_type": "markdown",
      "source": [
        "Set up the environment and load the data:"
      ],
      "metadata": {
        "id": "I7F5km33Cevk"
      }
    },
    {
      "cell_type": "code",
      "source": [
        "import pandas as pd\n",
        "import numpy as np\n",
        "import matplotlib.pyplot as plt\n",
        "import seaborn as sns\n",
        "import re\n",
        "from sklearn.preprocessing import LabelEncoder, StandardScaler\n",
        "from sklearn.preprocessing import MultiLabelBinarizer\n",
        "from sklearn.feature_extraction.text import TfidfVectorizer\n",
        "import nltk\n",
        "from nltk.corpus import stopwords\n",
        "from nltk.stem import WordNetLemmatizer\n",
        "\n",
        "nltk.download('stopwords')\n",
        "nltk.download('wordnet')\n",
        "nltk.download('punkt')\n",
        "\n",
        "plt.style.use('seaborn-v0_8')\n",
        "try:\n",
        "    df = pd.read_csv(\"/content/drive/My Drive/misc-unza25-csc4792-project_team9/unza_journals.csv\")\n",
        "    print(\"Dataset loaded successfully!\")\n",
        "    print(f\"Shape: {df.shape}\")\n",
        "    print(\"\\nColumns:\", df.columns.tolist())\n",
        "except FileNotFoundError:\n",
        "    print(\"Error: 'unza_journals.csv' not found. Please ensure the file is in the correct directory.\")\n",
        "    # Removed exit() here\n",
        "except Exception as e:\n",
        "    print(f\"An error occurred: {e}\")\n",
        "    # Removed exit() here"
      ],
      "metadata": {
        "colab": {
          "base_uri": "https://localhost:8080/"
        },
        "id": "aI2b3ktDCgG-",
        "outputId": "79ef1fa3-6227-4984-c069-ee95ffa8fd4c"
      },
      "execution_count": 3,
      "outputs": [
        {
          "output_type": "stream",
          "name": "stderr",
          "text": [
            "[nltk_data] Downloading package stopwords to /root/nltk_data...\n",
            "[nltk_data]   Unzipping corpora/stopwords.zip.\n",
            "[nltk_data] Downloading package wordnet to /root/nltk_data...\n",
            "[nltk_data] Downloading package punkt to /root/nltk_data...\n",
            "[nltk_data]   Unzipping tokenizers/punkt.zip.\n"
          ]
        },
        {
          "output_type": "stream",
          "name": "stdout",
          "text": [
            "Dataset loaded successfully!\n",
            "Shape: (6, 5)\n",
            "\n",
            "Columns: ['title', 'authors', 'abstract', 'keywords', 'url']\n"
          ]
        }
      ]
    },
    {
      "cell_type": "markdown",
      "source": [
        "\n",
        "Display basic information about the dataset"
      ],
      "metadata": {
        "id": "bf1-U8lkDd_o"
      }
    },
    {
      "cell_type": "code",
      "source": [
        "print(\"Dataset Info:\")\n",
        "print(df.info())\n",
        "print(\"\\nFirst 5 rows:\")\n",
        "print(df.head())\n",
        "print(\"\\nMissing values:\")\n",
        "print(df.isnull().sum())"
      ],
      "metadata": {
        "colab": {
          "base_uri": "https://localhost:8080/"
        },
        "id": "8odQsguMDk3K",
        "outputId": "827bcaf9-53fb-49c1-b92b-1b4ff6f53b64"
      },
      "execution_count": 4,
      "outputs": [
        {
          "output_type": "stream",
          "name": "stdout",
          "text": [
            "Dataset Info:\n",
            "<class 'pandas.core.frame.DataFrame'>\n",
            "RangeIndex: 6 entries, 0 to 5\n",
            "Data columns (total 5 columns):\n",
            " #   Column    Non-Null Count  Dtype \n",
            "---  ------    --------------  ----- \n",
            " 0   title     6 non-null      object\n",
            " 1   authors   6 non-null      object\n",
            " 2   abstract  6 non-null      object\n",
            " 3   keywords  6 non-null      object\n",
            " 4   url       6 non-null      object\n",
            "dtypes: object(5)\n",
            "memory usage: 372.0+ bytes\n",
            "None\n",
            "\n",
            "First 5 rows:\n",
            "                                               title  \\\n",
            "0  Managing an Academic Journal: Reflections from...   \n",
            "1  Determinants of Smallholder Farmers’ Crop Prod...   \n",
            "2  The Management of Environmental Risks arising ...   \n",
            "3  Quick-fit Method for Assessing  Quality of Fab...   \n",
            "4  Geochemistry and petrogenesis of the mafic dyk...   \n",
            "\n",
            "                                             authors  \\\n",
            "0                                      Levy Siaminwe   \n",
            "1  Rosa Siamachoka, Kabwe Harnadih Mubanga, Wiza ...   \n",
            "2                                    Prisca Nachalwe   \n",
            "3                    James Nyirenda, Onesmus Munyati   \n",
            "4  Sakwiba Musiwa, Osbert N Sikazwe, Akalemwa Fre...   \n",
            "\n",
            "                                            abstract  \\\n",
            "0  Abstract\\n\\t\\t\\t\\t\\tThe University of Zambia (...   \n",
            "1  Abstract\\n\\t\\t\\t\\t\\tClimate change is a global...   \n",
            "2  Abstract\\n\\t\\t\\t\\t\\tMining as an extractive in...   \n",
            "3  Abstract\\n\\t\\t\\t\\t\\tWe report a quick, non-sta...   \n",
            "4  Abstract\\n\\t\\t\\t\\t\\tThe area of north eastern ...   \n",
            "\n",
            "                                            keywords  \\\n",
            "0  Keywords:\\n\\t\\t\\t\\t\\n\\n\\t\\t\\t\\t\\t\\t\\t\\t\\t\\t\\t\\...   \n",
            "1  Keywords:\\n\\t\\t\\t\\t\\n\\n\\t\\t\\t\\t\\t\\t\\t\\t\\t\\t\\t\\...   \n",
            "2  Keywords:\\n\\t\\t\\t\\t\\n\\n\\t\\t\\t\\t\\t\\t\\t\\t\\t\\t\\t\\...   \n",
            "3  Keywords:\\n\\t\\t\\t\\t\\n\\n\\t\\t\\t\\t\\t\\t\\t\\t\\t\\t\\t\\...   \n",
            "4  Keywords:\\n\\t\\t\\t\\t\\n\\n\\t\\t\\t\\t\\t\\t\\t\\t\\t\\t\\t\\...   \n",
            "\n",
            "                                                 url  \n",
            "0  https://journals.unza.zm/index.php/JONAS/artic...  \n",
            "1  https://journals.unza.zm/index.php/JONAS/artic...  \n",
            "2  https://journals.unza.zm/index.php/JONAS/artic...  \n",
            "3  https://journals.unza.zm/index.php/JONAS/artic...  \n",
            "4  https://journals.unza.zm/index.php/JONAS/artic...  \n",
            "\n",
            "Missing values:\n",
            "title       0\n",
            "authors     0\n",
            "abstract    0\n",
            "keywords    0\n",
            "url         0\n",
            "dtype: int64\n"
          ]
        }
      ]
    },
    {
      "cell_type": "markdown",
      "source": [
        "##3.1 Data Cleaning"
      ],
      "metadata": {
        "id": "aOAaWiiID3QY"
      }
    },
    {
      "cell_type": "code",
      "source": [
        "df_clean = df.copy()\n",
        "\n",
        "# Handle missing values - even though initial summary shows no missing, let's verify\n",
        "print(\"Missing values before cleaning:\")\n",
        "print(df_clean.isnull().sum())\n",
        "\n",
        "# Fill any potential missing values in text columns with empty strings\n",
        "text_columns = ['title', 'abstract', 'keywords', 'authors']\n",
        "for col in text_columns:\n",
        "    if col in df_clean.columns:\n",
        "        df_clean[col] = df_clean[col].fillna('')\n",
        "\n",
        "print(\"\\nMissing values after cleaning:\")\n",
        "print(df_clean.isnull().sum())\n",
        "\n",
        "# Clean text data function\n",
        "def clean_text(text):\n",
        "    if pd.isna(text):\n",
        "        return \"\"\n",
        "    text = str(text)\n",
        "    # Remove special characters and digits\n",
        "    text = re.sub(r'[^a-zA-Z\\s]', '', text)\n",
        "    # Convert to lowercase\n",
        "    text = text.lower()\n",
        "    # Remove extra whitespace\n",
        "    text = re.sub(r'\\s+', ' ', text).strip()\n",
        "    return text\n",
        "\n",
        "# Apply text cleaning to relevant columns\n",
        "for col in ['title', 'abstract', 'keywords']:\n",
        "    if col in df_clean.columns:\n",
        "        df_clean[col] = df_clean[col].apply(clean_text)\n",
        "        print(f\"Cleaned {col} column\")\n",
        "\n",
        "print(\"\\nSample of cleaned abstract:\")\n",
        "print(df_clean['abstract'].head(2))"
      ],
      "metadata": {
        "colab": {
          "base_uri": "https://localhost:8080/"
        },
        "id": "F8WVByi4-T_s",
        "outputId": "2ce22af3-7388-4ad7-9d7b-07c9be67bf8f"
      },
      "execution_count": 5,
      "outputs": [
        {
          "output_type": "stream",
          "name": "stdout",
          "text": [
            "Missing values before cleaning:\n",
            "title       0\n",
            "authors     0\n",
            "abstract    0\n",
            "keywords    0\n",
            "url         0\n",
            "dtype: int64\n",
            "\n",
            "Missing values after cleaning:\n",
            "title       0\n",
            "authors     0\n",
            "abstract    0\n",
            "keywords    0\n",
            "url         0\n",
            "dtype: int64\n",
            "Cleaned title column\n",
            "Cleaned abstract column\n",
            "Cleaned keywords column\n",
            "\n",
            "Sample of cleaned abstract:\n",
            "0    abstract the university of zambia unza journal...\n",
            "1    abstract climate change is a global challenge ...\n",
            "Name: abstract, dtype: object\n"
          ]
        }
      ]
    },
    {
      "cell_type": "markdown",
      "source": [
        "##3.2 Feature Engineering"
      ],
      "metadata": {
        "id": "R9m-ewupXZV9"
      }
    },
    {
      "cell_type": "code",
      "source": [
        "print(\"Creating new features...\")\n",
        "\n",
        "# Abstract features\n",
        "df_clean['abstract_word_count'] = df_clean['abstract'].str.split().str.len()\n",
        "df_clean['abstract_char_count'] = df_clean['abstract'].str.len()\n",
        "df_clean['abstract_avg_word_length'] = np.where(\n",
        "    df_clean['abstract_word_count'] > 0,\n",
        "    df_clean['abstract_char_count'] / df_clean['abstract_word_count'],\n",
        "    0\n",
        ")\n",
        "\n",
        "# Title features\n",
        "df_clean['title_word_count'] = df_clean['title'].str.split().str.len()\n",
        "df_clean['title_char_count'] = df_clean['title'].str.len()\n",
        "\n",
        "# Author & keyword counts\n",
        "df_clean['num_authors'] = df_clean['authors'].fillna('').str.split(',').str.len()\n",
        "df_clean['num_keywords'] = df_clean['keywords'].fillna('').str.split(',').str.len()\n",
        "\n",
        "# Publication year\n",
        "if 'publication_date' in df_clean.columns:\n",
        "    df_clean['publication_year'] = pd.to_datetime(\n",
        "        df_clean['publication_date'], errors='coerce'\n",
        "    ).dt.year\n",
        "\n",
        "# Topic extraction\n",
        "topic_categories = {\n",
        "    'health': ['health', 'medical', 'disease', 'covid', 'pandemic', 'treatment'],\n",
        "    'education': ['education', 'learning', 'teaching', 'school', 'student'],\n",
        "    'technology': ['technology', 'digital', 'computer', 'software', 'internet'],\n",
        "    'social': ['social', 'community', 'society', 'cultural', 'behavior'],\n",
        "    'economic': ['economic', 'finance', 'business', 'market', 'investment'],\n",
        "    'environment': ['environment', 'climate', 'sustainability', 'conservation']\n",
        "}\n",
        "\n",
        "def extract_topics(keywords):\n",
        "    if pd.isna(keywords):\n",
        "        return ['other']\n",
        "    tokens = [kw.strip().lower() for kw in str(keywords).split(',')]\n",
        "    topics = [topic for topic, kw_list in topic_categories.items() if any(t in kw_list for t in tokens)]\n",
        "    return topics if topics else ['other']\n",
        "\n",
        "df_clean['topics'] = df_clean['keywords'].apply(extract_topics)\n",
        "\n",
        "# One-hot encode topics\n",
        "mlb = MultiLabelBinarizer()\n",
        "topic_dummies = pd.DataFrame(mlb.fit_transform(df_clean['topics']),\n",
        "                             columns=[f\"topic_{t}\" for t in mlb.classes_],\n",
        "                             index=df_clean.index)\n",
        "df_clean = pd.concat([df_clean, topic_dummies], axis=1)\n",
        "\n",
        "print(\"New features created successfully!\")\n"
      ],
      "metadata": {
        "colab": {
          "base_uri": "https://localhost:8080/"
        },
        "id": "nYW3auglXqHb",
        "outputId": "34357367-26d8-4647-cde0-ce06f29aac76"
      },
      "execution_count": null,
      "outputs": [
        {
          "output_type": "stream",
          "name": "stdout",
          "text": [
            "Creating new features...\n",
            "New features created successfully!\n"
          ]
        }
      ]
    },
    {
      "cell_type": "markdown",
      "source": [
        "## 3.3 Data Transformation"
      ],
      "metadata": {
        "id": "KLePa1wlyQGh"
      }
    },
    {
      "cell_type": "code",
      "source": [
        "# Encode categorical variables\n",
        "print(\"Encoding categorical variables...\")\n",
        "\n",
        "# Label encoding for authors (if needed for certain models)\n",
        "le = LabelEncoder()\n",
        "df_clean['authors_encoded'] = le.fit_transform(df_clean['authors'])\n",
        "\n",
        "print(\"Categorical variables encoded!\")\n",
        "# Text vectorization for abstracts (TF-IDF)\n",
        "print(\"Performing text vectorization...\")\n",
        "\n",
        "# Initialize TF-IDF Vectorizer\n",
        "tfidf = TfidfVectorizer(\n",
        "    max_features=50,  # Limit features due to small dataset size\n",
        "    stop_words='english',\n",
        "    ngram_range=(1, 2)\n",
        ")\n",
        "\n",
        "# Fit and transform abstracts\n",
        "abstract_tfidf = tfidf.fit_transform(df_clean['abstract'])\n",
        "\n",
        "# Create DataFrame from TF-IDF features\n",
        "tfidf_df = pd.DataFrame(abstract_tfidf.toarray(),\n",
        "                       columns=[f'tfidf_{feature}' for feature in tfidf.get_feature_names_out()])\n",
        "\n",
        "# Concatenate with main dataframe\n",
        "df_clean = pd.concat([df_clean, tfidf_df], axis=1)\n",
        "\n",
        "print(f\"Created {tfidf_df.shape[1]} TF-IDF features\")\n",
        "# Normalize numerical features\n",
        "print(\"Normalizing numerical features...\")\n",
        "\n",
        "numerical_features = [\n",
        "    'abstract_word_count', 'abstract_char_count', 'abstract_avg_word_length',\n",
        "    'title_word_count', 'title_char_count', 'num_authors', 'num_keywords'\n",
        "]\n",
        "\n",
        "# Filter to only include features that exist in the dataframe\n",
        "numerical_features = [feat for feat in numerical_features if feat in df_clean.columns]\n",
        "\n",
        "if numerical_features:\n",
        "    scaler = StandardScaler()\n",
        "    df_clean[numerical_features] = scaler.fit_transform(df_clean[numerical_features])\n",
        "    print(f\"Normalized {len(numerical_features)} numerical features\")\n",
        "else:\n",
        "    print(\"No numerical features found for normalization\")\n"
      ],
      "metadata": {
        "colab": {
          "base_uri": "https://localhost:8080/"
        },
        "id": "HZWzT2DiyWPB",
        "outputId": "befd4b22-cd56-4dd6-ea8b-1fea37a6db82"
      },
      "execution_count": 6,
      "outputs": [
        {
          "output_type": "stream",
          "name": "stdout",
          "text": [
            "Encoding categorical variables...\n",
            "Categorical variables encoded!\n",
            "Performing text vectorization...\n",
            "Created 50 TF-IDF features\n",
            "Normalizing numerical features...\n",
            "No numerical features found for normalization\n"
          ]
        }
      ]
    },
    {
      "cell_type": "markdown",
      "source": [
        "##3.4 Final Data Preparation\n",
        "\n",
        "\n"
      ],
      "metadata": {
        "id": "x89NJpNml3jJ"
      }
    },
    {
      "cell_type": "code",
      "source": [
        "# Select features for modeling\n",
        "feature_columns = [\n",
        "    col for col in df_clean.columns\n",
        "    if col not in ['title', 'abstract', 'keywords', 'authors', 'topics', 'publication_date']\n",
        "]\n",
        "\n",
        "print(\"Final feature columns for modeling:\")\n",
        "print(feature_columns)\n",
        "print(f\"\\nTotal features: {len(feature_columns)}\")\n",
        "# Create final prepared dataset\n",
        "X_prepared = df_clean[feature_columns]\n",
        "\n",
        "print(\"Final prepared dataset shape:\", X_prepared.shape)\n",
        "print(\"\\nFirst 5 rows of prepared data:\")\n",
        "print(X_prepared.head())\n",
        "# Save the prepared data\n",
        "try:\n",
        "    X_prepared.to_csv(\"/content/drive/My Drive/misc-unza25-csc4792-project_team9/unza_journals_prepared.csv\", index=False)\n",
        "    print(\"Prepared data saved successfully!\")\n",
        "except Exception as e:\n",
        "    print(f\"Error saving prepared data: {e}\")\n"
      ],
      "metadata": {
        "colab": {
          "base_uri": "https://localhost:8080/"
        },
        "id": "Ec8YqeR3mgyV",
        "outputId": "0d08c714-3f7b-4d88-b83a-17dca0b28b6e"
      },
      "execution_count": 7,
      "outputs": [
        {
          "output_type": "stream",
          "name": "stdout",
          "text": [
            "Final feature columns for modeling:\n",
            "['url', 'authors_encoded', 'tfidf_abstract', 'tfidf_affected', 'tfidf_agriculture', 'tfidf_analysis', 'tfidf_annual', 'tfidf_annual rate', 'tfidf_change', 'tfidf_chongwe', 'tfidf_chongwe district', 'tfidf_climate', 'tfidf_climate change', 'tfidf_data', 'tfidf_decreased', 'tfidf_decreased annual', 'tfidf_district', 'tfidf_dyke', 'tfidf_dyke swarm', 'tfidf_dykes', 'tfidf_factors', 'tfidf_farmers', 'tfidf_health', 'tfidf_household', 'tfidf_impacts', 'tfidf_informants', 'tfidf_kankoyo', 'tfidf_key', 'tfidf_key informants', 'tfidf_maize', 'tfidf_maize productivity', 'tfidf_mining', 'tfidf_nkana', 'tfidf_pacm', 'tfidf_productivity', 'tfidf_rainfall', 'tfidf_rate', 'tfidf_respondents', 'tfidf_revealed', 'tfidf_risks', 'tfidf_samples', 'tfidf_significant', 'tfidf_smallholder', 'tfidf_smallholder farmers', 'tfidf_social', 'tfidf_statistically', 'tfidf_study', 'tfidf_swarm', 'tfidf_telela', 'tfidf_trend', 'tfidf_variability', 'tfidf_zambia']\n",
            "\n",
            "Total features: 52\n",
            "Final prepared dataset shape: (6, 52)\n",
            "\n",
            "First 5 rows of prepared data:\n",
            "                                                 url  authors_encoded  \\\n",
            "0  https://journals.unza.zm/index.php/JONAS/artic...                1   \n",
            "1  https://journals.unza.zm/index.php/JONAS/artic...                4   \n",
            "2  https://journals.unza.zm/index.php/JONAS/artic...                2   \n",
            "3  https://journals.unza.zm/index.php/JONAS/artic...                0   \n",
            "4  https://journals.unza.zm/index.php/JONAS/artic...                5   \n",
            "\n",
            "   tfidf_abstract  tfidf_affected  tfidf_agriculture  tfidf_analysis  \\\n",
            "0        0.654832        0.000000           0.000000        0.000000   \n",
            "1        0.025615        0.034233           0.141953        0.039949   \n",
            "2        0.044990        0.060128           0.000000        0.000000   \n",
            "3        0.038793        0.000000           0.000000        0.000000   \n",
            "4        0.039655        0.052997           0.000000        0.061846   \n",
            "\n",
            "   tfidf_annual  tfidf_annual rate  tfidf_change  tfidf_chongwe  ...  \\\n",
            "0      0.000000           0.000000      0.000000       0.000000  ...   \n",
            "1      0.141953           0.094636      0.189271       0.189271  ...   \n",
            "2      0.000000           0.000000      0.000000       0.000000  ...   \n",
            "3      0.000000           0.000000      0.000000       0.000000  ...   \n",
            "4      0.000000           0.000000      0.000000       0.000000  ...   \n",
            "\n",
            "   tfidf_smallholder  tfidf_smallholder farmers  tfidf_social  \\\n",
            "0           0.000000                   0.000000      0.000000   \n",
            "1           0.331225                   0.283907      0.094636   \n",
            "2           0.000000                   0.000000      0.000000   \n",
            "3           0.000000                   0.000000      0.000000   \n",
            "4           0.000000                   0.000000      0.000000   \n",
            "\n",
            "   tfidf_statistically  tfidf_study  tfidf_swarm  tfidf_telela  tfidf_trend  \\\n",
            "0             0.000000     0.000000     0.000000      0.000000     0.000000   \n",
            "1             0.094636     0.171166     0.000000      0.000000     0.079898   \n",
            "2             0.000000     0.120255     0.000000      0.000000     0.000000   \n",
            "3             0.000000     0.000000     0.000000      0.262172     0.000000   \n",
            "4             0.000000     0.211989     0.357329      0.000000     0.061846   \n",
            "\n",
            "   tfidf_variability  tfidf_zambia  \n",
            "0           0.000000      0.755775  \n",
            "1           0.189271      0.059126  \n",
            "2           0.000000      0.000000  \n",
            "3           0.000000      0.044773  \n",
            "4           0.000000      0.045767  \n",
            "\n",
            "[5 rows x 52 columns]\n",
            "Prepared data saved successfully!\n"
          ]
        }
      ]
    }
  ]
}